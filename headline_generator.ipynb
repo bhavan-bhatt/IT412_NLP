{
 "cells": [
  {
   "cell_type": "code",
   "execution_count": null,
   "metadata": {},
   "outputs": [],
   "source": [
    "# Load model directly\n",
    "from transformers import pipeline\n",
    "import pandas as pd\n",
    "import evaluate\n",
    "from datasets import load_metric"
   ]
  },
  {
   "cell_type": "code",
   "execution_count": null,
   "metadata": {},
   "outputs": [],
   "source": [
    "df = pd.read_csv('CNN_Articels_1.csv')"
   ]
  },
  {
   "cell_type": "code",
   "execution_count": null,
   "metadata": {},
   "outputs": [],
   "source": [
    "pipe = pipeline(\"text2text-generation\", model=\"Michau/t5-base-en-generate-headline\", device=0)"
   ]
  },
  {
   "cell_type": "code",
   "execution_count": null,
   "metadata": {},
   "outputs": [],
   "source": [
    "results = pipe(df['Article text'].to_list())\n",
    "df['generated_headline'] = results"
   ]
  },
  {
   "cell_type": "code",
   "execution_count": 24,
   "metadata": {},
   "outputs": [],
   "source": [
    "df['generated_headline'] = df['generated_headline'].apply(lambda x: x.split(\"'\")[3])"
   ]
  },
  {
   "cell_type": "code",
   "execution_count": 28,
   "metadata": {},
   "outputs": [
    {
     "name": "stdout",
     "output_type": "stream",
     "text": [
      "BLEU score: 0.016559115511040626\n",
      "ROUGE-1 score: 0.4079074252651881\n"
     ]
    }
   ],
   "source": [
    "bleu_metric = bleu = evaluate.load(\"bleu\")\n",
    "rouge_metric = load_metric(\"rouge\")\n",
    "\n",
    "bleu_score = bleu_metric.compute(predictions=df['generated_headline'], references=df['Headline'])\n",
    "print(\"BLEU score:\", bleu_score['bleu'])\n",
    "\n",
    "rouge_scores = rouge_metric.compute(predictions=[df['generated_headline']], references=[df['Headline']])\n",
    "rouge_1_score = rouge_scores[\"rouge1\"].mid.fmeasure\n",
    "print(\"ROUGE-1 score:\", rouge_1_score)"
   ]
  },
  {
   "cell_type": "code",
   "execution_count": null,
   "metadata": {},
   "outputs": [],
   "source": []
  }
 ],
 "metadata": {
  "kernelspec": {
   "display_name": "pytorch",
   "language": "python",
   "name": "python3"
  },
  "language_info": {
   "codemirror_mode": {
    "name": "ipython",
    "version": 3
   },
   "file_extension": ".py",
   "mimetype": "text/x-python",
   "name": "python",
   "nbconvert_exporter": "python",
   "pygments_lexer": "ipython3",
   "version": "3.10.14"
  }
 },
 "nbformat": 4,
 "nbformat_minor": 2
}
